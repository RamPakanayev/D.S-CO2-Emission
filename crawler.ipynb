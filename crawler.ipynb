{
 "cells": [
  {
   "cell_type": "code",
   "execution_count": 1,
   "metadata": {
    "collapsed": true
   },
   "outputs": [],
   "source": [
    "import pip\n",
    "#import CONFIG as CONFIG\n",
    "from bs4 import BeautifulSoup\n",
    "import pandas as pd\n",
    "import pathlib\n",
    "import os\n",
    "import ast\n",
    "import sys\n",
    "import requests\n",
    "import numpy as np\n",
    "import sklearn\n",
    "import time\n",
    "#from html_table_parser.parser import HTMLTableParser\n",
    "import urllib.request\n",
    "from random import randint\n",
    "\n",
    "#MAX_CRAWL_SLEEP_TIME = CONFIG[\"crawler\"][\"MAX_CRAWL_SLEEP_TIME\"]\n"
   ]
  },
  {
   "cell_type": "markdown",
   "source": [],
   "metadata": {
    "collapsed": false
   }
  },
  {
   "cell_type": "code",
   "execution_count": 2,
   "outputs": [
    {
     "data": {
      "text/plain": "77"
     },
     "execution_count": 2,
     "metadata": {},
     "output_type": "execute_result"
    }
   ],
   "source": [
    "#western developed\n",
    "EU_Arr=[\"france\",\"uk\",\"italy\",\"spain\",\n",
    "        \"portugal\",\"poland\",\"austria\",\n",
    "        \"denmark\",\"finland\",\"greece\",\n",
    "        \"hungary\",\"ireland\",\n",
    "        \"netherlands\",\"romania\",\n",
    "        \"sweden\",\"iceland\",\"belgium\",\"norway\",\"Switzerland\"]\n",
    "\n",
    "westernC_Arr=[\"japan\",\"australia\",\"canada\",\"south-korea\",\"new-zealand\",\n",
    "              \"usa\",\"israel\"]#8\n",
    "\n",
    "arabArr=[ 'jordan', 'lebanon', 'mauritania',\n",
    "          'morocco',\n",
    "           'syria', 'tunisia',\n",
    "          'algeria', 'egypt',\n",
    "          'iraq','turkey','iran']#11\n",
    "\n",
    "superNationArr=[\"china\",\"india\"]#3\n",
    "\n",
    "\n",
    "AfricaC_Arr=[\"nigeria\",\"ethiopia\",\"democratic-republic-congo\",\"tanzania\",\"south-africa\",\n",
    "             \"kenya\",\"uganda\",\"algeria\",\"angola\",\"mozambique\",\n",
    "             \"ghana\",\"madagascar\",\"cameroon\",\n",
    "             \"mali\",\"malawi\",\"zambia\",\n",
    "             \"zimbabwe\",\"guinea\",\"rwanda\",\n",
    "             \"burundi\",\"togo\",\n",
    "             \"congo\",\"central-african-republic\",\"mauritania\",\n",
    "             \"gabon\",\n",
    "             \"equatorial-guinea\",\"mauritius\" ]#27\n",
    "\n",
    "\n",
    "other_asian_arr=[\"nepal\",\"Thailand\",\"Malaysia\",\"Philippines\",\"Afghanistan\",\"Pakistan\"]#6\n",
    "\n",
    "AmericaC_Arr=[\"brazil\",\"argentina\",\"peru\",\"chile\",\"colombia\"]#5\n",
    "\n",
    "countriesArr=[]\n",
    "countriesArr.extend(EU_Arr)\n",
    "countriesArr.extend(westernC_Arr)\n",
    "countriesArr.extend(arabArr)\n",
    "countriesArr.extend(superNationArr)\n",
    "countriesArr.extend(AfricaC_Arr)\n",
    "countriesArr.extend(other_asian_arr)\n",
    "countriesArr.extend(AmericaC_Arr)\n",
    "len(countriesArr)"
   ],
   "metadata": {
    "collapsed": false,
    "pycharm": {
     "name": "#%%\n"
    }
   }
  },
  {
   "cell_type": "code",
   "execution_count": 3,
   "outputs": [
    {
     "name": "stdout",
     "output_type": "stream",
     "text": [
      "france\n",
      "uk\n",
      "italy\n",
      "spain\n"
     ]
    },
    {
     "ename": "KeyboardInterrupt",
     "evalue": "",
     "output_type": "error",
     "traceback": [
      "\u001B[1;31m---------------------------------------------------------------------------\u001B[0m",
      "\u001B[1;31mKeyboardInterrupt\u001B[0m                         Traceback (most recent call last)",
      "\u001B[1;32m~\\AppData\\Local\\Temp/ipykernel_32436/3725966201.py\u001B[0m in \u001B[0;36m<module>\u001B[1;34m\u001B[0m\n\u001B[0;32m     87\u001B[0m     \u001B[0mj\u001B[0m\u001B[1;33m=\u001B[0m\u001B[1;36m0\u001B[0m\u001B[1;33m\u001B[0m\u001B[1;33m\u001B[0m\u001B[0m\n\u001B[0;32m     88\u001B[0m     \u001B[0mPopulation\u001B[0m \u001B[1;33m=\u001B[0m \u001B[1;34m\"https://countryeconomy.com/demography/population\"\u001B[0m\u001B[1;33m\u001B[0m\u001B[1;33m\u001B[0m\u001B[0m\n\u001B[1;32m---> 89\u001B[1;33m     \u001B[0mhtml\u001B[0m \u001B[1;33m=\u001B[0m \u001B[0mrequests\u001B[0m\u001B[1;33m.\u001B[0m\u001B[0mget\u001B[0m\u001B[1;33m(\u001B[0m\u001B[0mPopulation\u001B[0m\u001B[1;33m+\u001B[0m\u001B[1;34m'/'\u001B[0m\u001B[1;33m+\u001B[0m\u001B[0mi\u001B[0m\u001B[1;33m)\u001B[0m\u001B[1;33m.\u001B[0m\u001B[0mtext\u001B[0m\u001B[1;33m\u001B[0m\u001B[1;33m\u001B[0m\u001B[0m\n\u001B[0m\u001B[0;32m     90\u001B[0m     \u001B[0mSoup\u001B[0m \u001B[1;33m=\u001B[0m \u001B[0mBeautifulSoup\u001B[0m\u001B[1;33m(\u001B[0m\u001B[0mhtml\u001B[0m\u001B[1;33m,\u001B[0m \u001B[1;34m\"html.parser\"\u001B[0m\u001B[1;33m)\u001B[0m\u001B[1;33m\u001B[0m\u001B[1;33m\u001B[0m\u001B[0m\n\u001B[0;32m     91\u001B[0m     \u001B[0mRight_table\u001B[0m\u001B[1;33m=\u001B[0m\u001B[0mSoup\u001B[0m\u001B[1;33m.\u001B[0m\u001B[0mfind\u001B[0m\u001B[1;33m(\u001B[0m\u001B[1;34m'table'\u001B[0m\u001B[1;33m,\u001B[0m\u001B[0mid\u001B[0m \u001B[1;33m=\u001B[0m \u001B[1;34m\"tb0\"\u001B[0m\u001B[1;33m)\u001B[0m\u001B[1;33m\u001B[0m\u001B[1;33m\u001B[0m\u001B[0m\n",
      "\u001B[1;32mc:\\users\\raman\\pycharmprojects\\environmentpredict\\venv\\lib\\site-packages\\requests\\api.py\u001B[0m in \u001B[0;36mget\u001B[1;34m(url, params, **kwargs)\u001B[0m\n\u001B[0;32m     73\u001B[0m     \"\"\"\n\u001B[0;32m     74\u001B[0m \u001B[1;33m\u001B[0m\u001B[0m\n\u001B[1;32m---> 75\u001B[1;33m     \u001B[1;32mreturn\u001B[0m \u001B[0mrequest\u001B[0m\u001B[1;33m(\u001B[0m\u001B[1;34m'get'\u001B[0m\u001B[1;33m,\u001B[0m \u001B[0murl\u001B[0m\u001B[1;33m,\u001B[0m \u001B[0mparams\u001B[0m\u001B[1;33m=\u001B[0m\u001B[0mparams\u001B[0m\u001B[1;33m,\u001B[0m \u001B[1;33m**\u001B[0m\u001B[0mkwargs\u001B[0m\u001B[1;33m)\u001B[0m\u001B[1;33m\u001B[0m\u001B[1;33m\u001B[0m\u001B[0m\n\u001B[0m\u001B[0;32m     76\u001B[0m \u001B[1;33m\u001B[0m\u001B[0m\n\u001B[0;32m     77\u001B[0m \u001B[1;33m\u001B[0m\u001B[0m\n",
      "\u001B[1;32mc:\\users\\raman\\pycharmprojects\\environmentpredict\\venv\\lib\\site-packages\\requests\\api.py\u001B[0m in \u001B[0;36mrequest\u001B[1;34m(method, url, **kwargs)\u001B[0m\n\u001B[0;32m     59\u001B[0m     \u001B[1;31m# cases, and look like a memory leak in others.\u001B[0m\u001B[1;33m\u001B[0m\u001B[1;33m\u001B[0m\u001B[1;33m\u001B[0m\u001B[0m\n\u001B[0;32m     60\u001B[0m     \u001B[1;32mwith\u001B[0m \u001B[0msessions\u001B[0m\u001B[1;33m.\u001B[0m\u001B[0mSession\u001B[0m\u001B[1;33m(\u001B[0m\u001B[1;33m)\u001B[0m \u001B[1;32mas\u001B[0m \u001B[0msession\u001B[0m\u001B[1;33m:\u001B[0m\u001B[1;33m\u001B[0m\u001B[1;33m\u001B[0m\u001B[0m\n\u001B[1;32m---> 61\u001B[1;33m         \u001B[1;32mreturn\u001B[0m \u001B[0msession\u001B[0m\u001B[1;33m.\u001B[0m\u001B[0mrequest\u001B[0m\u001B[1;33m(\u001B[0m\u001B[0mmethod\u001B[0m\u001B[1;33m=\u001B[0m\u001B[0mmethod\u001B[0m\u001B[1;33m,\u001B[0m \u001B[0murl\u001B[0m\u001B[1;33m=\u001B[0m\u001B[0murl\u001B[0m\u001B[1;33m,\u001B[0m \u001B[1;33m**\u001B[0m\u001B[0mkwargs\u001B[0m\u001B[1;33m)\u001B[0m\u001B[1;33m\u001B[0m\u001B[1;33m\u001B[0m\u001B[0m\n\u001B[0m\u001B[0;32m     62\u001B[0m \u001B[1;33m\u001B[0m\u001B[0m\n\u001B[0;32m     63\u001B[0m \u001B[1;33m\u001B[0m\u001B[0m\n",
      "\u001B[1;32mc:\\users\\raman\\pycharmprojects\\environmentpredict\\venv\\lib\\site-packages\\requests\\sessions.py\u001B[0m in \u001B[0;36mrequest\u001B[1;34m(self, method, url, params, data, headers, cookies, files, auth, timeout, allow_redirects, proxies, hooks, stream, verify, cert, json)\u001B[0m\n\u001B[0;32m    540\u001B[0m         }\n\u001B[0;32m    541\u001B[0m         \u001B[0msend_kwargs\u001B[0m\u001B[1;33m.\u001B[0m\u001B[0mupdate\u001B[0m\u001B[1;33m(\u001B[0m\u001B[0msettings\u001B[0m\u001B[1;33m)\u001B[0m\u001B[1;33m\u001B[0m\u001B[1;33m\u001B[0m\u001B[0m\n\u001B[1;32m--> 542\u001B[1;33m         \u001B[0mresp\u001B[0m \u001B[1;33m=\u001B[0m \u001B[0mself\u001B[0m\u001B[1;33m.\u001B[0m\u001B[0msend\u001B[0m\u001B[1;33m(\u001B[0m\u001B[0mprep\u001B[0m\u001B[1;33m,\u001B[0m \u001B[1;33m**\u001B[0m\u001B[0msend_kwargs\u001B[0m\u001B[1;33m)\u001B[0m\u001B[1;33m\u001B[0m\u001B[1;33m\u001B[0m\u001B[0m\n\u001B[0m\u001B[0;32m    543\u001B[0m \u001B[1;33m\u001B[0m\u001B[0m\n\u001B[0;32m    544\u001B[0m         \u001B[1;32mreturn\u001B[0m \u001B[0mresp\u001B[0m\u001B[1;33m\u001B[0m\u001B[1;33m\u001B[0m\u001B[0m\n",
      "\u001B[1;32mc:\\users\\raman\\pycharmprojects\\environmentpredict\\venv\\lib\\site-packages\\requests\\sessions.py\u001B[0m in \u001B[0;36msend\u001B[1;34m(self, request, **kwargs)\u001B[0m\n\u001B[0;32m    653\u001B[0m \u001B[1;33m\u001B[0m\u001B[0m\n\u001B[0;32m    654\u001B[0m         \u001B[1;31m# Send the request\u001B[0m\u001B[1;33m\u001B[0m\u001B[1;33m\u001B[0m\u001B[1;33m\u001B[0m\u001B[0m\n\u001B[1;32m--> 655\u001B[1;33m         \u001B[0mr\u001B[0m \u001B[1;33m=\u001B[0m \u001B[0madapter\u001B[0m\u001B[1;33m.\u001B[0m\u001B[0msend\u001B[0m\u001B[1;33m(\u001B[0m\u001B[0mrequest\u001B[0m\u001B[1;33m,\u001B[0m \u001B[1;33m**\u001B[0m\u001B[0mkwargs\u001B[0m\u001B[1;33m)\u001B[0m\u001B[1;33m\u001B[0m\u001B[1;33m\u001B[0m\u001B[0m\n\u001B[0m\u001B[0;32m    656\u001B[0m \u001B[1;33m\u001B[0m\u001B[0m\n\u001B[0;32m    657\u001B[0m         \u001B[1;31m# Total elapsed time of the request (approximately)\u001B[0m\u001B[1;33m\u001B[0m\u001B[1;33m\u001B[0m\u001B[1;33m\u001B[0m\u001B[0m\n",
      "\u001B[1;32mc:\\users\\raman\\pycharmprojects\\environmentpredict\\venv\\lib\\site-packages\\requests\\adapters.py\u001B[0m in \u001B[0;36msend\u001B[1;34m(self, request, stream, timeout, verify, cert, proxies)\u001B[0m\n\u001B[0;32m    447\u001B[0m                     \u001B[0mdecode_content\u001B[0m\u001B[1;33m=\u001B[0m\u001B[1;32mFalse\u001B[0m\u001B[1;33m,\u001B[0m\u001B[1;33m\u001B[0m\u001B[1;33m\u001B[0m\u001B[0m\n\u001B[0;32m    448\u001B[0m                     \u001B[0mretries\u001B[0m\u001B[1;33m=\u001B[0m\u001B[0mself\u001B[0m\u001B[1;33m.\u001B[0m\u001B[0mmax_retries\u001B[0m\u001B[1;33m,\u001B[0m\u001B[1;33m\u001B[0m\u001B[1;33m\u001B[0m\u001B[0m\n\u001B[1;32m--> 449\u001B[1;33m                     \u001B[0mtimeout\u001B[0m\u001B[1;33m=\u001B[0m\u001B[0mtimeout\u001B[0m\u001B[1;33m\u001B[0m\u001B[1;33m\u001B[0m\u001B[0m\n\u001B[0m\u001B[0;32m    450\u001B[0m                 )\n\u001B[0;32m    451\u001B[0m \u001B[1;33m\u001B[0m\u001B[0m\n",
      "\u001B[1;32mc:\\users\\raman\\pycharmprojects\\environmentpredict\\venv\\lib\\site-packages\\urllib3\\connectionpool.py\u001B[0m in \u001B[0;36murlopen\u001B[1;34m(self, method, url, body, headers, retries, redirect, assert_same_host, timeout, pool_timeout, release_conn, chunked, body_pos, **response_kw)\u001B[0m\n\u001B[0;32m    704\u001B[0m                 \u001B[0mbody\u001B[0m\u001B[1;33m=\u001B[0m\u001B[0mbody\u001B[0m\u001B[1;33m,\u001B[0m\u001B[1;33m\u001B[0m\u001B[1;33m\u001B[0m\u001B[0m\n\u001B[0;32m    705\u001B[0m                 \u001B[0mheaders\u001B[0m\u001B[1;33m=\u001B[0m\u001B[0mheaders\u001B[0m\u001B[1;33m,\u001B[0m\u001B[1;33m\u001B[0m\u001B[1;33m\u001B[0m\u001B[0m\n\u001B[1;32m--> 706\u001B[1;33m                 \u001B[0mchunked\u001B[0m\u001B[1;33m=\u001B[0m\u001B[0mchunked\u001B[0m\u001B[1;33m,\u001B[0m\u001B[1;33m\u001B[0m\u001B[1;33m\u001B[0m\u001B[0m\n\u001B[0m\u001B[0;32m    707\u001B[0m             )\n\u001B[0;32m    708\u001B[0m \u001B[1;33m\u001B[0m\u001B[0m\n",
      "\u001B[1;32mc:\\users\\raman\\pycharmprojects\\environmentpredict\\venv\\lib\\site-packages\\urllib3\\connectionpool.py\u001B[0m in \u001B[0;36m_make_request\u001B[1;34m(self, conn, method, url, timeout, chunked, **httplib_request_kw)\u001B[0m\n\u001B[0;32m    380\u001B[0m         \u001B[1;31m# Trigger any extra validation we need to do.\u001B[0m\u001B[1;33m\u001B[0m\u001B[1;33m\u001B[0m\u001B[1;33m\u001B[0m\u001B[0m\n\u001B[0;32m    381\u001B[0m         \u001B[1;32mtry\u001B[0m\u001B[1;33m:\u001B[0m\u001B[1;33m\u001B[0m\u001B[1;33m\u001B[0m\u001B[0m\n\u001B[1;32m--> 382\u001B[1;33m             \u001B[0mself\u001B[0m\u001B[1;33m.\u001B[0m\u001B[0m_validate_conn\u001B[0m\u001B[1;33m(\u001B[0m\u001B[0mconn\u001B[0m\u001B[1;33m)\u001B[0m\u001B[1;33m\u001B[0m\u001B[1;33m\u001B[0m\u001B[0m\n\u001B[0m\u001B[0;32m    383\u001B[0m         \u001B[1;32mexcept\u001B[0m \u001B[1;33m(\u001B[0m\u001B[0mSocketTimeout\u001B[0m\u001B[1;33m,\u001B[0m \u001B[0mBaseSSLError\u001B[0m\u001B[1;33m)\u001B[0m \u001B[1;32mas\u001B[0m \u001B[0me\u001B[0m\u001B[1;33m:\u001B[0m\u001B[1;33m\u001B[0m\u001B[1;33m\u001B[0m\u001B[0m\n\u001B[0;32m    384\u001B[0m             \u001B[1;31m# Py2 raises this as a BaseSSLError, Py3 raises it as socket timeout.\u001B[0m\u001B[1;33m\u001B[0m\u001B[1;33m\u001B[0m\u001B[1;33m\u001B[0m\u001B[0m\n",
      "\u001B[1;32mc:\\users\\raman\\pycharmprojects\\environmentpredict\\venv\\lib\\site-packages\\urllib3\\connectionpool.py\u001B[0m in \u001B[0;36m_validate_conn\u001B[1;34m(self, conn)\u001B[0m\n\u001B[0;32m   1008\u001B[0m         \u001B[1;31m# Force connect early to allow us to validate the connection.\u001B[0m\u001B[1;33m\u001B[0m\u001B[1;33m\u001B[0m\u001B[1;33m\u001B[0m\u001B[0m\n\u001B[0;32m   1009\u001B[0m         \u001B[1;32mif\u001B[0m \u001B[1;32mnot\u001B[0m \u001B[0mgetattr\u001B[0m\u001B[1;33m(\u001B[0m\u001B[0mconn\u001B[0m\u001B[1;33m,\u001B[0m \u001B[1;34m\"sock\"\u001B[0m\u001B[1;33m,\u001B[0m \u001B[1;32mNone\u001B[0m\u001B[1;33m)\u001B[0m\u001B[1;33m:\u001B[0m  \u001B[1;31m# AppEngine might not have  `.sock`\u001B[0m\u001B[1;33m\u001B[0m\u001B[1;33m\u001B[0m\u001B[0m\n\u001B[1;32m-> 1010\u001B[1;33m             \u001B[0mconn\u001B[0m\u001B[1;33m.\u001B[0m\u001B[0mconnect\u001B[0m\u001B[1;33m(\u001B[0m\u001B[1;33m)\u001B[0m\u001B[1;33m\u001B[0m\u001B[1;33m\u001B[0m\u001B[0m\n\u001B[0m\u001B[0;32m   1011\u001B[0m \u001B[1;33m\u001B[0m\u001B[0m\n\u001B[0;32m   1012\u001B[0m         \u001B[1;32mif\u001B[0m \u001B[1;32mnot\u001B[0m \u001B[0mconn\u001B[0m\u001B[1;33m.\u001B[0m\u001B[0mis_verified\u001B[0m\u001B[1;33m:\u001B[0m\u001B[1;33m\u001B[0m\u001B[1;33m\u001B[0m\u001B[0m\n",
      "\u001B[1;32mc:\\users\\raman\\pycharmprojects\\environmentpredict\\venv\\lib\\site-packages\\urllib3\\connection.py\u001B[0m in \u001B[0;36mconnect\u001B[1;34m(self)\u001B[0m\n\u001B[0;32m    356\u001B[0m     \u001B[1;32mdef\u001B[0m \u001B[0mconnect\u001B[0m\u001B[1;33m(\u001B[0m\u001B[0mself\u001B[0m\u001B[1;33m)\u001B[0m\u001B[1;33m:\u001B[0m\u001B[1;33m\u001B[0m\u001B[1;33m\u001B[0m\u001B[0m\n\u001B[0;32m    357\u001B[0m         \u001B[1;31m# Add certificate verification\u001B[0m\u001B[1;33m\u001B[0m\u001B[1;33m\u001B[0m\u001B[1;33m\u001B[0m\u001B[0m\n\u001B[1;32m--> 358\u001B[1;33m         \u001B[0mconn\u001B[0m \u001B[1;33m=\u001B[0m \u001B[0mself\u001B[0m\u001B[1;33m.\u001B[0m\u001B[0m_new_conn\u001B[0m\u001B[1;33m(\u001B[0m\u001B[1;33m)\u001B[0m\u001B[1;33m\u001B[0m\u001B[1;33m\u001B[0m\u001B[0m\n\u001B[0m\u001B[0;32m    359\u001B[0m         \u001B[0mhostname\u001B[0m \u001B[1;33m=\u001B[0m \u001B[0mself\u001B[0m\u001B[1;33m.\u001B[0m\u001B[0mhost\u001B[0m\u001B[1;33m\u001B[0m\u001B[1;33m\u001B[0m\u001B[0m\n\u001B[0;32m    360\u001B[0m         \u001B[0mtls_in_tls\u001B[0m \u001B[1;33m=\u001B[0m \u001B[1;32mFalse\u001B[0m\u001B[1;33m\u001B[0m\u001B[1;33m\u001B[0m\u001B[0m\n",
      "\u001B[1;32mc:\\users\\raman\\pycharmprojects\\environmentpredict\\venv\\lib\\site-packages\\urllib3\\connection.py\u001B[0m in \u001B[0;36m_new_conn\u001B[1;34m(self)\u001B[0m\n\u001B[0;32m    173\u001B[0m         \u001B[1;32mtry\u001B[0m\u001B[1;33m:\u001B[0m\u001B[1;33m\u001B[0m\u001B[1;33m\u001B[0m\u001B[0m\n\u001B[0;32m    174\u001B[0m             conn = connection.create_connection(\n\u001B[1;32m--> 175\u001B[1;33m                 \u001B[1;33m(\u001B[0m\u001B[0mself\u001B[0m\u001B[1;33m.\u001B[0m\u001B[0m_dns_host\u001B[0m\u001B[1;33m,\u001B[0m \u001B[0mself\u001B[0m\u001B[1;33m.\u001B[0m\u001B[0mport\u001B[0m\u001B[1;33m)\u001B[0m\u001B[1;33m,\u001B[0m \u001B[0mself\u001B[0m\u001B[1;33m.\u001B[0m\u001B[0mtimeout\u001B[0m\u001B[1;33m,\u001B[0m \u001B[1;33m**\u001B[0m\u001B[0mextra_kw\u001B[0m\u001B[1;33m\u001B[0m\u001B[1;33m\u001B[0m\u001B[0m\n\u001B[0m\u001B[0;32m    176\u001B[0m             )\n\u001B[0;32m    177\u001B[0m \u001B[1;33m\u001B[0m\u001B[0m\n",
      "\u001B[1;32mc:\\users\\raman\\pycharmprojects\\environmentpredict\\venv\\lib\\site-packages\\urllib3\\util\\connection.py\u001B[0m in \u001B[0;36mcreate_connection\u001B[1;34m(address, timeout, source_address, socket_options)\u001B[0m\n\u001B[0;32m     84\u001B[0m             \u001B[1;32mif\u001B[0m \u001B[0msource_address\u001B[0m\u001B[1;33m:\u001B[0m\u001B[1;33m\u001B[0m\u001B[1;33m\u001B[0m\u001B[0m\n\u001B[0;32m     85\u001B[0m                 \u001B[0msock\u001B[0m\u001B[1;33m.\u001B[0m\u001B[0mbind\u001B[0m\u001B[1;33m(\u001B[0m\u001B[0msource_address\u001B[0m\u001B[1;33m)\u001B[0m\u001B[1;33m\u001B[0m\u001B[1;33m\u001B[0m\u001B[0m\n\u001B[1;32m---> 86\u001B[1;33m             \u001B[0msock\u001B[0m\u001B[1;33m.\u001B[0m\u001B[0mconnect\u001B[0m\u001B[1;33m(\u001B[0m\u001B[0msa\u001B[0m\u001B[1;33m)\u001B[0m\u001B[1;33m\u001B[0m\u001B[1;33m\u001B[0m\u001B[0m\n\u001B[0m\u001B[0;32m     87\u001B[0m             \u001B[1;32mreturn\u001B[0m \u001B[0msock\u001B[0m\u001B[1;33m\u001B[0m\u001B[1;33m\u001B[0m\u001B[0m\n\u001B[0;32m     88\u001B[0m \u001B[1;33m\u001B[0m\u001B[0m\n",
      "\u001B[1;31mKeyboardInterrupt\u001B[0m: "
     ]
    }
   ],
   "source": [
    "Dict = {'countries':[],'Year':[], 'CO2 Total Mt':[],'CO2 Kg/1k$':[],'CO2 Tons per capita':[],\n",
    "          'Generation GWh':[],'consumption GWh':[],'consumption per capita kW':[],'installed capacity MW':[],'Renewable installed capacity MW':[],\n",
    "          'Renewable generation GWh':[],'Renewable percentage %':[],'Population':[]}\n",
    "\n",
    "num_rows =42\n",
    "gap_to_fill_nan=0\n",
    "#loop=0\n",
    "for i in countriesArr:\n",
    "    print(i)\n",
    "    time.sleep(randint(0, 2))\n",
    "    Co2_URL = \"https://countryeconomy.com/energy-and-environment/co2-emissions\"\n",
    "    html = requests.get(Co2_URL+'/'+i).text\n",
    "    Soup = BeautifulSoup(html, \"html.parser\")\n",
    "    Right_table=Soup.find('table',id = \"tb0\")\n",
    "    j = 0\n",
    "    for row in Right_table.findAll('tr'):\n",
    "        if j== num_rows:\n",
    "            break\n",
    "        j=j+1\n",
    "        cells=row.findAll('td')\n",
    "        if len(cells)==4:\n",
    "            Dict['countries'].append(i)\n",
    "            Dict['Year'].append(cells[0].find(text=True))\n",
    "            Dict['CO2 Total Mt'].append(cells[1].find(text=True))\n",
    "            Dict['CO2 Kg/1k$'].append(cells[2].find(text=True))\n",
    "            Dict['CO2 Tons per capita'].append(cells[3].find(text=True))\n",
    "\n",
    "    j=0\n",
    "    gap_to_fill_nan=0\n",
    "    Electricity_consumption = \"https://countryeconomy.com/energy-and-environment/electricity-consumption\"\n",
    "    html = requests.get(Electricity_consumption+'/'+i).text\n",
    "    Soup = BeautifulSoup(html, \"html.parser\")\n",
    "    Right_table=Soup.find('table',id = \"tb0\")\n",
    "# sometimes the table starts from 2019 instead from 2020 so take that shit:\n",
    "    if Right_table.find('td').find(text=True)!='2020':\n",
    "        Dict['consumption GWh'].append(np.nan)\n",
    "        Dict['consumption per capita kW'].append(np.nan)\n",
    "        gap_to_fill_nan=gap_to_fill_nan+1\n",
    "\n",
    "    for row in Right_table.findAll('tr'):\n",
    "        if j== num_rows:\n",
    "            break\n",
    "        j=j+1\n",
    "        cells=row.findAll('td')\n",
    "        if len(cells)==4:\n",
    "            Dict['consumption GWh'].append(cells[2].find(text=True))\n",
    "            Dict['consumption per capita kW'].append(cells[3].find(text=True))\n",
    "        gap_to_fill_nan=gap_to_fill_nan+1\n",
    "    for ro in range(0,num_rows-gap_to_fill_nan):\n",
    "        Dict['consumption GWh'].append(np.nan)\n",
    "        Dict['consumption per capita kW'].append(np.nan)\n",
    "    gap_to_fill_nan=0\n",
    "    j=0\n",
    "    Electricity_generation = \"https://countryeconomy.com/energy-and-environment/electricity-generation\"\n",
    "    html = requests.get(Electricity_generation+'/'+i).text\n",
    "    Soup = BeautifulSoup(html, \"html.parser\")\n",
    "    Right_table=Soup.find('table',id = \"tb0\")\n",
    "\n",
    "    if Right_table.find('td').find(text=True)!='2020':\n",
    "        Dict['installed capacity MW'].append(np.nan)\n",
    "        Dict['Generation GWh'].append(np.nan)\n",
    "        Dict['Renewable installed capacity MW'].append(np.nan)\n",
    "        Dict['Renewable generation GWh'].append(np.nan)\n",
    "        Dict['Renewable percentage %'].append(np.nan)\n",
    "        gap_to_fill_nan=gap_to_fill_nan+1\n",
    "\n",
    "    for row in Right_table.findAll('tr') :\n",
    "        if j== num_rows:\n",
    "            break\n",
    "        j=j+1\n",
    "        cells=row.findAll('td')\n",
    "        if len(cells)==6:\n",
    "            Dict['installed capacity MW'].append(cells[1].find(text=True))\n",
    "            Dict['Generation GWh'].append(cells[2].find(text=True))\n",
    "            Dict['Renewable installed capacity MW'].append(cells[3].find(text=True))\n",
    "            Dict['Renewable generation GWh'].append(cells[4].find(text=True))\n",
    "            Dict['Renewable percentage %'].append(cells[5].find(text=True))\n",
    "            gap_to_fill_nan=gap_to_fill_nan+1\n",
    "    for ro in range(1,num_rows-gap_to_fill_nan):\n",
    "        Dict['installed capacity MW'].append(np.nan)\n",
    "        Dict['Generation GWh'].append(np.nan)\n",
    "        Dict['Renewable installed capacity MW'].append(np.nan)\n",
    "        Dict['Renewable generation GWh'].append(np.nan)\n",
    "        Dict['Renewable percentage %'].append(np.nan)\n",
    "\n",
    "\n",
    "    j=0\n",
    "    Population = \"https://countryeconomy.com/demography/population\"\n",
    "    html = requests.get(Population+'/'+i).text\n",
    "    Soup = BeautifulSoup(html, \"html.parser\")\n",
    "    Right_table=Soup.find('table',id = \"tb0\")\n",
    "    for row in Right_table.findAll('tr') :\n",
    "        if j== num_rows:\n",
    "            break\n",
    "        j=j+1\n",
    "        cells=row.findAll('td')\n",
    "        if len(cells)==5:\n",
    "            Dict['Population'].append(cells[4].find(text=True))\n",
    "\n",
    "\n",
    "df = pd.DataFrame(dict([(k,pd.Series(v)) for k,v in Dict.items()]))\n",
    "df.to_csv('Big Table.csv')\n",
    "df.info()"
   ],
   "metadata": {
    "collapsed": false,
    "pycharm": {
     "name": "#%%\n"
    }
   }
  }
 ],
 "metadata": {
  "kernelspec": {
   "display_name": "Python 3",
   "language": "python",
   "name": "python3"
  },
  "language_info": {
   "codemirror_mode": {
    "name": "ipython",
    "version": 2
   },
   "file_extension": ".py",
   "mimetype": "text/x-python",
   "name": "python",
   "nbconvert_exporter": "python",
   "pygments_lexer": "ipython2",
   "version": "2.7.6"
  }
 },
 "nbformat": 4,
 "nbformat_minor": 0
}