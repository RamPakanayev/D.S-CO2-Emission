{
 "cells": [
  {
   "cell_type": "code",
   "execution_count": 1,
   "metadata": {
    "collapsed": true
   },
   "outputs": [
    {
     "data": {
      "text/plain": "77"
     },
     "execution_count": 1,
     "metadata": {},
     "output_type": "execute_result"
    }
   ],
   "source": [
    "#western developed\n",
    "def getEUArr():\n",
    "    EU_Arr=[\"france\",\"uk\",\"italy\",\"spain\",\n",
    "        \"portugal\",\"poland\",\"austria\",\n",
    "        \"denmark\",\"finland\",\"greece\",\n",
    "        \"hungary\",\"ireland\",\n",
    "        \"netherlands\",\"romania\",\n",
    "        \"sweden\",\"iceland\",\"belgium\",\"norway\",\"Switzerland\"]\n",
    "    return EU_Arr\n",
    "\n",
    "def getWesternArr():\n",
    "    westernC_Arr=[\"japan\",\"australia\",\"canada\",\"south-korea\",\"new-zealand\",\n",
    "              \"usa\",\"israel\"]#8\n",
    "    return westernC_Arr\n",
    "\n",
    "def getArabArr():\n",
    "    arabArr=[ 'jordan', 'lebanon', 'mauritania',\n",
    "          'morocco',\n",
    "           'syria', 'tunisia',\n",
    "          'algeria', 'egypt',\n",
    "          'iraq','turkey','iran']#11\n",
    "    return arabArr\n",
    "\n",
    "superNationArr=[\"china\",\"india\"]#3\n",
    "\n",
    "def getAfrica():\n",
    "    AfricaC_Arr=[\"nigeria\",\"ethiopia\",\"democratic-republic-congo\",\"tanzania\",\"south-africa\",\n",
    "             \"kenya\",\"uganda\",\"algeria\",\"angola\",\"mozambique\",\n",
    "             \"ghana\",\"madagascar\",\"cameroon\",\n",
    "             \"mali\",\"malawi\",\"zambia\",\n",
    "             \"zimbabwe\",\"guinea\",\"rwanda\",\n",
    "             \"burundi\",\"togo\",\n",
    "             \"congo\",\"central-african-republic\",\"mauritania\",\n",
    "             \"gabon\",\n",
    "             \"equatorial-guinea\",\"mauritius\" ]#27\n",
    "    return AfricaC_Arr\n",
    "\n",
    "other_asian_arr=[\"nepal\",\"Thailand\",\"Malaysia\",\"Philippines\",\"Afghanistan\",\"Pakistan\"]#6\n",
    "\n",
    "AmericaC_Arr=[\"brazil\",\"argentina\",\"peru\",\"chile\",\"colombia\"]#5\n",
    "\n",
    "countriesArr=[]\n",
    "countriesArr.extend(getEUArr())\n",
    "countriesArr.extend(getWesternArr())\n",
    "countriesArr.extend(getArabArr())\n",
    "countriesArr.extend(superNationArr)\n",
    "countriesArr.extend(getAfrica())\n",
    "countriesArr.extend(other_asian_arr)\n",
    "countriesArr.extend(AmericaC_Arr)\n",
    "len(countriesArr)"
   ]
  },
  {
   "cell_type": "code",
   "execution_count": null,
   "outputs": [],
   "source": [],
   "metadata": {
    "collapsed": false,
    "pycharm": {
     "name": "#%%\n"
    }
   }
  }
 ],
 "metadata": {
  "kernelspec": {
   "display_name": "Python 3",
   "language": "python",
   "name": "python3"
  },
  "language_info": {
   "codemirror_mode": {
    "name": "ipython",
    "version": 2
   },
   "file_extension": ".py",
   "mimetype": "text/x-python",
   "name": "python",
   "nbconvert_exporter": "python",
   "pygments_lexer": "ipython2",
   "version": "2.7.6"
  }
 },
 "nbformat": 4,
 "nbformat_minor": 0
}