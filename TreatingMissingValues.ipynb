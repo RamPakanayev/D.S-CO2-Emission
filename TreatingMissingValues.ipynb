{
 "cells": [
  {
   "cell_type": "code",
   "execution_count": 1,
   "metadata": {
    "collapsed": true
   },
   "outputs": [],
   "source": [
    "import pandas as pd\n",
    "import numpy as np\n",
    "from pandas import ExcelFile\n",
    "from pandas import ExcelWriter\n"
   ]
  },
  {
   "cell_type": "code",
   "execution_count": 2,
   "outputs": [],
   "source": [
    "df = pd.read_csv(\"Big Table.csv\", header=0, sep=',',thousands=',')\n",
    "df['Renewable percentage %'] = df['Renewable percentage %'].str.rstrip('%').astype('float')"
   ],
   "metadata": {
    "collapsed": false,
    "pycharm": {
     "name": "#%%\n"
    }
   }
  },
  {
   "cell_type": "code",
   "execution_count": 3,
   "outputs": [],
   "source": [
    "df1=df.dropna().copy()\n",
    "df1 = df1[df1.Year != 2020]\n",
    "df1=df1.drop(['Unnamed: 0'],axis=1)\n",
    "df1.to_csv('big table after missing values.csv')"
   ],
   "metadata": {
    "collapsed": false,
    "pycharm": {
     "name": "#%%\n"
    }
   }
  },
  {
   "cell_type": "markdown",
   "source": [
    "Outliers\n"
   ],
   "metadata": {
    "collapsed": false,
    "pycharm": {
     "name": "#%% md\n"
    }
   }
  },
  {
   "cell_type": "code",
   "execution_count": 13,
   "outputs": [],
   "source": [
    "df = pd.read_csv(\"big table after missing values.csv\", header=0, sep=',',thousands=',')\n",
    "df=df.drop(['Unnamed: 0'],axis=1)\n"
   ],
   "metadata": {
    "collapsed": false,
    "pycharm": {
     "name": "#%%\n"
    }
   }
  },
  {
   "cell_type": "code",
   "execution_count": 14,
   "outputs": [
    {
     "name": "stdout",
     "output_type": "stream",
     "text": [
      "(2306, 13)\n"
     ]
    }
   ],
   "source": [
    "def outlier_detection_iqr(df):\n",
    "    df2 = df.copy()\n",
    "    for col in list(df2.columns):\n",
    "        if df2[col].dtype != 'object':\n",
    "            Q1 = np.percentile(df2[col], 25)\n",
    "            Q3 = np.percentile(df2[col], 75)\n",
    "            IQR = Q3 - Q1\n",
    "            df2.loc[(df2[col] < Q1 - 1.5*IQR) | (df2[col] > Q3 + 1.5*IQR ),col]=np.nan\n",
    "    return df2\n",
    "\n",
    "df_outlier = outlier_detection_iqr(df)\n",
    "print(df_outlier.shape)\n",
    "\n",
    "\n"
   ],
   "metadata": {
    "collapsed": false,
    "pycharm": {
     "name": "#%%\n"
    }
   }
  },
  {
   "cell_type": "code",
   "execution_count": 15,
   "outputs": [
    {
     "data": {
      "text/plain": "(2306, 13)"
     },
     "execution_count": 15,
     "metadata": {},
     "output_type": "execute_result"
    }
   ],
   "source": [
    "df.shape"
   ],
   "metadata": {
    "collapsed": false,
    "pycharm": {
     "name": "#%%\n"
    }
   }
  },
  {
   "cell_type": "code",
   "execution_count": 16,
   "outputs": [
    {
     "data": {
      "text/plain": "     countries  Year  CO2 Total Mt  CO2 Kg/1k$  CO2 Tons per capita  \\\n0       france  2019       319.613        0.10                 4.88   \n1       france  2018       327.585        0.11                 5.02   \n2       france  2017       336.046        0.11                 5.17   \n3       france  2016       331.913        0.11                 5.13   \n4       france  2015       329.518        0.11                 5.11   \n...        ...   ...           ...         ...                  ...   \n2301  colombia  1994        59.064        0.18                 1.60   \n2302  colombia  1993        59.493        0.19                 1.64   \n2303  colombia  1992        56.230        0.19                 1.58   \n2304  colombia  1991        54.209        0.19                 1.55   \n2305  colombia  1990        52.525        0.19                 1.53   \n\n      Generation GWh  consumption GWh  consumption per capita kW  \\\n0           545014.0         449235.0                     6673.1   \n1           551544.0         449957.0                     6698.0   \n2           533956.0         455228.0                     6791.8   \n3           536708.0         457729.0                     6851.2   \n4           551038.0         450835.0                     6765.4   \n...              ...              ...                        ...   \n2301         40864.0          32026.0                      894.2   \n2302         37584.0          29652.0                      842.8   \n2303         32771.0          26624.0                      771.2   \n2304         36374.0          28782.0                      850.4   \n2305         35651.0          28171.0                      849.7   \n\n      installed capacity MW  Renewable installed capacity MW  \\\n0                  137082.0                          48533.0   \n1                  133531.0                          45874.0   \n2                  133088.0                          42864.0   \n3                  133151.0                          39908.0   \n4                  132219.0                          37827.0   \n...                     ...                              ...   \n2301                12658.0                           7902.0   \n2302                12185.0                           7695.0   \n2303                11024.0                           6794.0   \n2304                 9599.0                           6707.0   \n2305                 8849.0                           6608.0   \n\n      Renewable generation GWh  Renewable percentage %  Population  \n0                     116141.0                   21.31    67320216  \n1                     115984.0                   21.03    67177636  \n2                      95159.0                   17.82    67026224  \n3                     101197.0                   18.86    66809816  \n4                      94122.0                   17.08    66638391  \n...                        ...                     ...         ...  \n2301                   32416.0                   79.33    35817000  \n2302                   28113.0                   74.80    35181000  \n2303                   22557.0                   68.83    34522000  \n2304                   27479.0                   75.55    33845000  \n2305                   27522.0                   77.20    33156000  \n\n[2306 rows x 13 columns]",
      "text/html": "<div>\n<style scoped>\n    .dataframe tbody tr th:only-of-type {\n        vertical-align: middle;\n    }\n\n    .dataframe tbody tr th {\n        vertical-align: top;\n    }\n\n    .dataframe thead th {\n        text-align: right;\n    }\n</style>\n<table border=\"1\" class=\"dataframe\">\n  <thead>\n    <tr style=\"text-align: right;\">\n      <th></th>\n      <th>countries</th>\n      <th>Year</th>\n      <th>CO2 Total Mt</th>\n      <th>CO2 Kg/1k$</th>\n      <th>CO2 Tons per capita</th>\n      <th>Generation GWh</th>\n      <th>consumption GWh</th>\n      <th>consumption per capita kW</th>\n      <th>installed capacity MW</th>\n      <th>Renewable installed capacity MW</th>\n      <th>Renewable generation GWh</th>\n      <th>Renewable percentage %</th>\n      <th>Population</th>\n    </tr>\n  </thead>\n  <tbody>\n    <tr>\n      <th>0</th>\n      <td>france</td>\n      <td>2019</td>\n      <td>319.613</td>\n      <td>0.10</td>\n      <td>4.88</td>\n      <td>545014.0</td>\n      <td>449235.0</td>\n      <td>6673.1</td>\n      <td>137082.0</td>\n      <td>48533.0</td>\n      <td>116141.0</td>\n      <td>21.31</td>\n      <td>67320216</td>\n    </tr>\n    <tr>\n      <th>1</th>\n      <td>france</td>\n      <td>2018</td>\n      <td>327.585</td>\n      <td>0.11</td>\n      <td>5.02</td>\n      <td>551544.0</td>\n      <td>449957.0</td>\n      <td>6698.0</td>\n      <td>133531.0</td>\n      <td>45874.0</td>\n      <td>115984.0</td>\n      <td>21.03</td>\n      <td>67177636</td>\n    </tr>\n    <tr>\n      <th>2</th>\n      <td>france</td>\n      <td>2017</td>\n      <td>336.046</td>\n      <td>0.11</td>\n      <td>5.17</td>\n      <td>533956.0</td>\n      <td>455228.0</td>\n      <td>6791.8</td>\n      <td>133088.0</td>\n      <td>42864.0</td>\n      <td>95159.0</td>\n      <td>17.82</td>\n      <td>67026224</td>\n    </tr>\n    <tr>\n      <th>3</th>\n      <td>france</td>\n      <td>2016</td>\n      <td>331.913</td>\n      <td>0.11</td>\n      <td>5.13</td>\n      <td>536708.0</td>\n      <td>457729.0</td>\n      <td>6851.2</td>\n      <td>133151.0</td>\n      <td>39908.0</td>\n      <td>101197.0</td>\n      <td>18.86</td>\n      <td>66809816</td>\n    </tr>\n    <tr>\n      <th>4</th>\n      <td>france</td>\n      <td>2015</td>\n      <td>329.518</td>\n      <td>0.11</td>\n      <td>5.11</td>\n      <td>551038.0</td>\n      <td>450835.0</td>\n      <td>6765.4</td>\n      <td>132219.0</td>\n      <td>37827.0</td>\n      <td>94122.0</td>\n      <td>17.08</td>\n      <td>66638391</td>\n    </tr>\n    <tr>\n      <th>...</th>\n      <td>...</td>\n      <td>...</td>\n      <td>...</td>\n      <td>...</td>\n      <td>...</td>\n      <td>...</td>\n      <td>...</td>\n      <td>...</td>\n      <td>...</td>\n      <td>...</td>\n      <td>...</td>\n      <td>...</td>\n      <td>...</td>\n    </tr>\n    <tr>\n      <th>2301</th>\n      <td>colombia</td>\n      <td>1994</td>\n      <td>59.064</td>\n      <td>0.18</td>\n      <td>1.60</td>\n      <td>40864.0</td>\n      <td>32026.0</td>\n      <td>894.2</td>\n      <td>12658.0</td>\n      <td>7902.0</td>\n      <td>32416.0</td>\n      <td>79.33</td>\n      <td>35817000</td>\n    </tr>\n    <tr>\n      <th>2302</th>\n      <td>colombia</td>\n      <td>1993</td>\n      <td>59.493</td>\n      <td>0.19</td>\n      <td>1.64</td>\n      <td>37584.0</td>\n      <td>29652.0</td>\n      <td>842.8</td>\n      <td>12185.0</td>\n      <td>7695.0</td>\n      <td>28113.0</td>\n      <td>74.80</td>\n      <td>35181000</td>\n    </tr>\n    <tr>\n      <th>2303</th>\n      <td>colombia</td>\n      <td>1992</td>\n      <td>56.230</td>\n      <td>0.19</td>\n      <td>1.58</td>\n      <td>32771.0</td>\n      <td>26624.0</td>\n      <td>771.2</td>\n      <td>11024.0</td>\n      <td>6794.0</td>\n      <td>22557.0</td>\n      <td>68.83</td>\n      <td>34522000</td>\n    </tr>\n    <tr>\n      <th>2304</th>\n      <td>colombia</td>\n      <td>1991</td>\n      <td>54.209</td>\n      <td>0.19</td>\n      <td>1.55</td>\n      <td>36374.0</td>\n      <td>28782.0</td>\n      <td>850.4</td>\n      <td>9599.0</td>\n      <td>6707.0</td>\n      <td>27479.0</td>\n      <td>75.55</td>\n      <td>33845000</td>\n    </tr>\n    <tr>\n      <th>2305</th>\n      <td>colombia</td>\n      <td>1990</td>\n      <td>52.525</td>\n      <td>0.19</td>\n      <td>1.53</td>\n      <td>35651.0</td>\n      <td>28171.0</td>\n      <td>849.7</td>\n      <td>8849.0</td>\n      <td>6608.0</td>\n      <td>27522.0</td>\n      <td>77.20</td>\n      <td>33156000</td>\n    </tr>\n  </tbody>\n</table>\n<p>2306 rows × 13 columns</p>\n</div>"
     },
     "execution_count": 16,
     "metadata": {},
     "output_type": "execute_result"
    }
   ],
   "source": [
    "df"
   ],
   "metadata": {
    "collapsed": false,
    "pycharm": {
     "name": "#%%\n"
    }
   }
  },
  {
   "cell_type": "code",
   "execution_count": null,
   "outputs": [],
   "source": [],
   "metadata": {
    "collapsed": false,
    "pycharm": {
     "name": "#%%\n"
    }
   }
  }
 ],
 "metadata": {
  "kernelspec": {
   "display_name": "Python 3",
   "language": "python",
   "name": "python3"
  },
  "language_info": {
   "codemirror_mode": {
    "name": "ipython",
    "version": 2
   },
   "file_extension": ".py",
   "mimetype": "text/x-python",
   "name": "python",
   "nbconvert_exporter": "python",
   "pygments_lexer": "ipython2",
   "version": "2.7.6"
  }
 },
 "nbformat": 4,
 "nbformat_minor": 0
}